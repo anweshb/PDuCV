{
 "cells": [
  {
   "cell_type": "code",
   "execution_count": 1,
   "metadata": {},
   "outputs": [],
   "source": [
    "import tensorflow\n",
    "from tensorflow.keras.models import load_model,save_model\n",
    "import pandas as pd\n",
    "from tensorflow.keras.preprocessing.image import ImageDataGenerator\n",
    "import tempfile\n",
    "import tensorflow_model_optimization as tfmot\n",
    "import numpy as np\n",
    "import seaborn as sns\n",
    "import matplotlib.pyplot as plt\n",
    "\n",
    "# Model configuration\n",
    "img_width, img_height = 300, 300\n",
    "batch_size = 32\n",
    "no_epochs = 30\n",
    "no_classes = 2\n",
    "verbosity = 1\n",
    "\n",
    "train_dir = \"E://PDuCV//chest_xray//train\"\n",
    "test_dir = \"E://PDuCV//chest_xray//test\"\n",
    "val_dir = \"E://PDuCV//chest_xray//val\""
   ]
  },
  {
   "cell_type": "code",
   "execution_count": 2,
   "metadata": {},
   "outputs": [
    {
     "name": "stdout",
     "output_type": "stream",
     "text": [
      "Found 4016 images belonging to 2 classes.\n",
      "Found 1016 images belonging to 2 classes.\n",
      "Found 824 images belonging to 2 classes.\n"
     ]
    }
   ],
   "source": [
    "data_gen = ImageDataGenerator(rescale = 1./255,\n",
    "                             shear_range = 0.2, \n",
    "                             zoom_range = 0.15,\n",
    "                             rotation_range = 7,\n",
    "                             width_shift_range=0.15,  \n",
    "                             height_shift_range=0.1,  \n",
    "                             horizontal_flip=True)\n",
    "\n",
    "train_gen = data_gen.flow_from_directory(train_dir,\n",
    "                                           target_size = (300, 300),\n",
    "                                           batch_size = 32,\n",
    "                                           shuffle = True,\n",
    "                                           color_mode = 'grayscale',\n",
    "                                            class_mode = 'binary')\n",
    "\n",
    "\n",
    "val_test_gen = ImageDataGenerator(rescale = 1./255)\n",
    "\n",
    "val_gen = val_test_gen.flow_from_directory(val_dir,\n",
    "                                      target_size = (300, 300),\n",
    "                                      batch_size = 32,\n",
    "                                      shuffle = False,\n",
    "                                      color_mode = 'grayscale',\n",
    "                                      class_mode = 'binary')\n",
    "\n",
    "test_gen = val_test_gen.flow_from_directory(test_dir,\n",
    "                                      target_size = (300, 300),\n",
    "                                      batch_size = 32,\n",
    "                                      shuffle = False,\n",
    "                                      color_mode = 'grayscale',\n",
    "                                      class_mode = 'binary')"
   ]
  },
  {
   "cell_type": "code",
   "execution_count": 3,
   "metadata": {},
   "outputs": [],
   "source": [
    "input_train = train_gen\n",
    "input_test = test_gen\n",
    "input_shape = (img_width, img_height, 1)"
   ]
  },
  {
   "cell_type": "code",
   "execution_count": 4,
   "metadata": {},
   "outputs": [
    {
     "name": "stdout",
     "output_type": "stream",
     "text": [
      "WARNING:tensorflow:From C:\\Users\\Admin\\anaconda3\\envs\\tf_gpu\\lib\\site-packages\\tensorflow_model_optimization\\python\\core\\sparsity\\keras\\pruning_wrapper.py:200: Layer.add_variable (from tensorflow.python.keras.engine.base_layer) is deprecated and will be removed in a future version.\n",
      "Instructions for updating:\n",
      "Please use `layer.add_weight` method instead.\n"
     ]
    }
   ],
   "source": [
    "model = load_model(\"E:\\\\PDuCV\\\\first_model.h5\")\n",
    "prune_low_magnitude = tfmot.sparsity.keras.prune_low_magnitude\n",
    "\n",
    "pruning_epochs = 15\n",
    "num_images = 4016\n",
    "end_step = np.ceil(num_images / batch_size).astype(np.int32) * pruning_epochs\n",
    "\n",
    "pruning_params = {\n",
    "      'pruning_schedule': tfmot.sparsity.keras.PolynomialDecay(initial_sparsity=0.40,\n",
    "                                                               final_sparsity=0.70,\n",
    "                                                               begin_step=0,\n",
    "                                                               end_step=end_step)\n",
    "}\n",
    "model_for_pruning = prune_low_magnitude(model, **pruning_params)"
   ]
  },
  {
   "cell_type": "code",
   "execution_count": 5,
   "metadata": {},
   "outputs": [
    {
     "name": "stdout",
     "output_type": "stream",
     "text": [
      "WARNING:tensorflow:sample_weight modes were coerced from\n",
      "  ...\n",
      "    to  \n",
      "  ['...']\n",
      "WARNING:tensorflow:sample_weight modes were coerced from\n",
      "  ...\n",
      "    to  \n",
      "  ['...']\n",
      "Train for 126 steps, validate for 32 steps\n",
      "Epoch 1/15\n",
      "126/126 [==============================] - 98s 779ms/step - loss: 0.0904 - accuracy: 0.9681 - val_loss: 0.1955 - val_accuracy: 0.9222\n",
      "Epoch 2/15\n",
      "126/126 [==============================] - 87s 694ms/step - loss: 0.0854 - accuracy: 0.9684 - val_loss: 0.1164 - val_accuracy: 0.9508\n",
      "Epoch 3/15\n",
      "126/126 [==============================] - 81s 643ms/step - loss: 0.0954 - accuracy: 0.9636 - val_loss: 0.1252 - val_accuracy: 0.9469\n",
      "Epoch 4/15\n",
      "126/126 [==============================] - 81s 646ms/step - loss: 0.0824 - accuracy: 0.9669 - val_loss: 0.1010 - val_accuracy: 0.9626\n",
      "Epoch 5/15\n",
      "126/126 [==============================] - 81s 641ms/step - loss: 0.0938 - accuracy: 0.9629 - val_loss: 0.2012 - val_accuracy: 0.9144\n",
      "Epoch 6/15\n",
      "126/126 [==============================] - 81s 641ms/step - loss: 0.0798 - accuracy: 0.9696 - val_loss: 0.1600 - val_accuracy: 0.9370\n",
      "Epoch 7/15\n",
      "126/126 [==============================] - 80s 639ms/step - loss: 0.0853 - accuracy: 0.9681 - val_loss: 0.1207 - val_accuracy: 0.9469\n",
      "Epoch 8/15\n",
      "126/126 [==============================] - 81s 644ms/step - loss: 0.0719 - accuracy: 0.9761 - val_loss: 0.2176 - val_accuracy: 0.9085\n",
      "Epoch 9/15\n",
      "126/126 [==============================] - 80s 638ms/step - loss: 0.0806 - accuracy: 0.9724 - val_loss: 0.1983 - val_accuracy: 0.9193\n",
      "Epoch 10/15\n",
      "126/126 [==============================] - 81s 644ms/step - loss: 0.0698 - accuracy: 0.9734 - val_loss: 0.1699 - val_accuracy: 0.9291\n",
      "Epoch 11/15\n",
      "126/126 [==============================] - 81s 645ms/step - loss: 0.0758 - accuracy: 0.9719 - val_loss: 0.1075 - val_accuracy: 0.9518\n",
      "Epoch 12/15\n",
      "126/126 [==============================] - 81s 642ms/step - loss: 0.0770 - accuracy: 0.9719 - val_loss: 0.1889 - val_accuracy: 0.9232\n",
      "Epoch 13/15\n",
      "126/126 [==============================] - 80s 634ms/step - loss: 0.0739 - accuracy: 0.9749 - val_loss: 0.1732 - val_accuracy: 0.9272\n",
      "Epoch 14/15\n",
      "126/126 [==============================] - 81s 641ms/step - loss: 0.0743 - accuracy: 0.9714 - val_loss: 0.0800 - val_accuracy: 0.9695\n",
      "Epoch 15/15\n",
      "126/126 [==============================] - 80s 636ms/step - loss: 0.0692 - accuracy: 0.9766 - val_loss: 0.1620 - val_accuracy: 0.9252\n"
     ]
    },
    {
     "data": {
      "text/plain": [
       "<tensorflow.python.keras.callbacks.History at 0x1d268846448>"
      ]
     },
     "execution_count": 5,
     "metadata": {},
     "output_type": "execute_result"
    }
   ],
   "source": [
    "\n",
    "model_for_pruning.compile(loss=tensorflow.keras.losses.binary_crossentropy,\n",
    "              optimizer=tensorflow.keras.optimizers.Adam(),\n",
    "              metrics=['accuracy'])\n",
    "\n",
    "callbacks = [\n",
    "  tfmot.sparsity.keras.UpdatePruningStep()\n",
    "]\n",
    "\n",
    "\n",
    "model_for_pruning.fit(x= input_train,\n",
    "                      validation_data = val_gen,\n",
    "                      epochs=pruning_epochs,\n",
    "                      verbose=verbosity,\n",
    "                      callbacks=callbacks)"
   ]
  },
  {
   "cell_type": "code",
   "execution_count": 6,
   "metadata": {},
   "outputs": [
    {
     "name": "stdout",
     "output_type": "stream",
     "text": [
      "WARNING:tensorflow:sample_weight modes were coerced from\n",
      "  ...\n",
      "    to  \n",
      "  ['...']\n",
      "26/26 [==============================] - 7s 283ms/step - loss: 0.2512 - accuracy: 0.9078\n",
      "Pruned CNN - Test loss: 0.2511778636477314 / Test accuracy: 0.9077669978141785\n",
      "Size of gzipped pruned Keras model: 26937421.00 bytes\n"
     ]
    }
   ],
   "source": [
    "# Generate generalization metrics\n",
    "score_pruned = model_for_pruning.evaluate(input_test, verbose=1)\n",
    "print(f'Pruned CNN - Test loss: {score_pruned[0]} / Test accuracy: {score_pruned[1]}')\n",
    "\n",
    "model_for_export = tfmot.sparsity.keras.strip_pruning(model_for_pruning)\n",
    "_, pruned_keras_file = tempfile.mkstemp('.h5')\n",
    "save_model(model_for_export, pruned_keras_file, include_optimizer=False)\n",
    "\n",
    "def get_gzipped_model_size(file):\n",
    "  import os\n",
    "  import zipfile\n",
    "\n",
    "  _, zipped_file = tempfile.mkstemp('.zip')\n",
    "  with zipfile.ZipFile(zipped_file, 'w', compression=zipfile.ZIP_DEFLATED) as f:\n",
    "    f.write(file)\n",
    "\n",
    "  return os.path.getsize(zipped_file)\n",
    "print(\"Size of gzipped pruned Keras model: %.2f bytes\" % (get_gzipped_model_size(pruned_keras_file)))\n"
   ]
  },
  {
   "cell_type": "code",
   "execution_count": 9,
   "metadata": {},
   "outputs": [
    {
     "name": "stdout",
     "output_type": "stream",
     "text": [
      "26/26 [==============================] - 5s 211ms/step\n",
      "Classification Report: \n",
      "              precision    recall  f1-score   support\n",
      "\n",
      "           0       0.88      0.78      0.83       234\n",
      "           1       0.92      0.96      0.94       590\n",
      "\n",
      "    accuracy                           0.91       824\n",
      "   macro avg       0.90      0.87      0.88       824\n",
      "weighted avg       0.91      0.91      0.91       824\n",
      "\n"
     ]
    },
    {
     "data": {
      "image/png": "[encoded data removed]",
      "text/plain": [
       "<Figure size 720x720 with 2 Axes>"
      ]
     },
     "metadata": {},
     "output_type": "display_data"
    }
   ],
   "source": [
    "predictions_test = (model_for_export.predict(test_gen,verbose=True) > 0.5).astype(\"int32\")\n",
    "from sklearn.metrics import classification_report,confusion_matrix\n",
    "y_true = np.array([0] * 234 + [1] * 590) #234 Normal, #590 Pneumonia\n",
    "data = confusion_matrix(y_true, predictions_test)\n",
    "df_cm = pd.DataFrame(data, columns=np.unique(y_true), index = np.unique(y_true))\n",
    "df_cm.index.name = 'Predicted'\n",
    "df_cm.columns.name = 'Actual'\n",
    "plt.figure(figsize = (10,10))\n",
    "sns.set(font_scale=1.5)\n",
    "ax = sns.heatmap(df_cm,cmap = 'Greens', annot=True,fmt = '.5g',annot_kws={\"size\": 16})# font size\n",
    "ax.set_title('Confusion Matrix')\n",
    "ax.xaxis.set_ticklabels(['NORMAL', 'PNEUMONIA']); ax.yaxis.set_ticklabels(['NORMAL', 'PNEUMONIA']);\n",
    "ax.set_ylim([0,2])\n",
    "\n",
    "print(\"Classification Report: \")\n",
    "print(classification_report(y_true,predictions_test))"
   ]
  },
  {
   "cell_type": "code",
   "execution_count": 10,
   "metadata": {},
   "outputs": [],
   "source": [
    "model_for_export.save('first_model_pruned.h5')"
   ]
  }
 ],
 "metadata": {
  "kernelspec": {
   "display_name": "Python [conda env:tf_gpu] *",
   "language": "python",
   "name": "conda-env-tf_gpu-py"
  },
  "language_info": {
   "codemirror_mode": {
    "name": "ipython",
    "version": 3
   },
   "file_extension": ".py",
   "mimetype": "text/x-python",
   "name": "python",
   "nbconvert_exporter": "python",
   "pygments_lexer": "ipython3",
   "version": "3.7.9"
  }
 },
 "nbformat": 4,
 "nbformat_minor": 4
}
