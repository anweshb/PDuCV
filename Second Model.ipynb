{
 "cells": [
  {
   "cell_type": "code",
   "execution_count": 1,
   "metadata": {},
   "outputs": [],
   "source": [
    "import numpy as np\n",
    "import pandas as pd\n",
    "import seaborn as sns\n",
    "import matplotlib.pyplot as plt\n",
    "import tensorflow as tf\n",
    "from tensorflow.keras.models import Sequential\n",
    "from tensorflow.keras.layers import Dense, Dropout, Conv2D, MaxPooling2D, Flatten\n",
    "from tensorflow.keras.callbacks import EarlyStopping\n",
    "from tensorflow.keras.preprocessing.image import ImageDataGenerator, load_img\n",
    "from sklearn.model_selection import train_test_split"
   ]
  },
  {
   "cell_type": "code",
   "execution_count": 2,
   "metadata": {},
   "outputs": [],
   "source": [
    "train_dir = \"E://PDuCV//chest_xray//train\"\n",
    "test_dir = \"E://PDuCV//chest_xray//test\"\n",
    "val_dir = \"E://PDuCV//chest_xray//val\""
   ]
  },
  {
   "cell_type": "code",
   "execution_count": 3,
   "metadata": {},
   "outputs": [],
   "source": [
    "# data_gen = ImageDataGenerator(rescale = 1./255,\n",
    "#                              shear_range = 0.2, \n",
    "#                              zoom_range = 0.15,\n",
    "#                              rotation_range = 7,\n",
    "#                              width_shift_range=0.15,  \n",
    "#                              height_shift_range=0.1,  \n",
    "#                              horizontal_flip=True)\n",
    "\n",
    "# train_gen = data_gen.flow_from_directory(train_dir,\n",
    "#                                            target_size = (300, 300),\n",
    "#                                            batch_size = 32,\n",
    "#                                            shuffle = True,\n",
    "#                                            color_mode = 'grayscale',\n",
    "#                                             class_mode = 'binary')\n",
    "\n",
    "# val_test_gen = ImageDataGenerator(rescale = 1./255)\n",
    "\n",
    "# val_gen = val_test_gen.flow_from_directory(val_dir,\n",
    "#                                       target_size = (300, 300),\n",
    "#                                       batch_size = 32,\n",
    "#                                       shuffle = False,\n",
    "#                                       color_mode = 'grayscale',\n",
    "#                                       class_mode = 'binary')\n",
    "\n",
    "# test_gen = val_test_gen.flow_from_directory(test_dir,\n",
    "#                                       target_size = (300, 300),\n",
    "#                                       batch_size = 32,\n",
    "#                                       shuffle = False,\n",
    "#                                       color_mode = 'grayscale',\n",
    "#                                       class_mode = 'binary')"
   ]
  },
  {
   "cell_type": "code",
   "execution_count": 4,
   "metadata": {},
   "outputs": [
    {
     "name": "stdout",
     "output_type": "stream",
     "text": [
      "Found 4016 images belonging to 2 classes.\n",
      "Found 1016 images belonging to 2 classes.\n",
      "Found 824 images belonging to 2 classes.\n"
     ]
    }
   ],
   "source": [
    "train_datagen = ImageDataGenerator(rescale = 1./255,\n",
    "                                   shear_range = 0.2,\n",
    "                                   zoom_range = 0.2,\n",
    "                                   horizontal_flip = True)\n",
    "\n",
    "test_datagen = ImageDataGenerator(rescale = 1./255) \n",
    "\n",
    "training_set = train_datagen.flow_from_directory(train_dir,\n",
    "                                                 target_size = (64, 64),\n",
    "                                                 batch_size = 32,\n",
    "                                                 class_mode = 'binary')\n",
    "\n",
    "validation_generator = test_datagen.flow_from_directory(val_dir,\n",
    "                                                        target_size=(64, 64),\n",
    "                                                        batch_size=32,\n",
    "                                                        class_mode='binary')\n",
    "\n",
    "test_set = test_datagen.flow_from_directory(test_dir,\n",
    "                                            target_size = (64, 64),\n",
    "                                            batch_size = 32,\n",
    "                                            class_mode = 'binary')"
   ]
  },
  {
   "cell_type": "code",
   "execution_count": 5,
   "metadata": {},
   "outputs": [],
   "source": [
    "cnn = Sequential()\n",
    "\n",
    "#Convolution\n",
    "cnn.add(Conv2D(32, (3, 3), activation=\"relu\", input_shape=(64, 64, 3)))\n",
    "\n",
    "#Pooling\n",
    "cnn.add(MaxPooling2D(pool_size = (2, 2)))\n",
    "\n",
    "# 2nd Convolution\n",
    "cnn.add(Conv2D(32, (3, 3), activation=\"relu\"))\n",
    "\n",
    "# 2nd Pooling layer\n",
    "cnn.add(MaxPooling2D(pool_size = (2, 2)))\n",
    "\n",
    "# Flatten the layer\n",
    "cnn.add(Flatten())\n",
    "\n",
    "# Fully Connected Layers\n",
    "cnn.add(Dense(activation = 'relu', units = 128))\n",
    "cnn.add(Dense(activation = 'sigmoid', units = 1))\n",
    "\n",
    "# Compile the Neural network\n",
    "cnn.compile(optimizer = 'adam', loss = 'binary_crossentropy', metrics = ['accuracy'])"
   ]
  },
  {
   "cell_type": "code",
   "execution_count": 6,
   "metadata": {},
   "outputs": [
    {
     "name": "stdout",
     "output_type": "stream",
     "text": [
      "Model: \"sequential\"\n",
      "_________________________________________________________________\n",
      "Layer (type)                 Output Shape              Param #   \n",
      "=================================================================\n",
      "conv2d (Conv2D)              (None, 62, 62, 32)        896       \n",
      "_________________________________________________________________\n",
      "max_pooling2d (MaxPooling2D) (None, 31, 31, 32)        0         \n",
      "_________________________________________________________________\n",
      "conv2d_1 (Conv2D)            (None, 29, 29, 32)        9248      \n",
      "_________________________________________________________________\n",
      "max_pooling2d_1 (MaxPooling2 (None, 14, 14, 32)        0         \n",
      "_________________________________________________________________\n",
      "flatten (Flatten)            (None, 6272)              0         \n",
      "_________________________________________________________________\n",
      "dense (Dense)                (None, 128)               802944    \n",
      "_________________________________________________________________\n",
      "dense_1 (Dense)              (None, 1)                 129       \n",
      "=================================================================\n",
      "Total params: 813,217\n",
      "Trainable params: 813,217\n",
      "Non-trainable params: 0\n",
      "_________________________________________________________________\n"
     ]
    }
   ],
   "source": [
    "cnn.summary()"
   ]
  },
  {
   "cell_type": "code",
   "execution_count": 7,
   "metadata": {},
   "outputs": [],
   "source": [
    "stop = EarlyStopping(patience = 10, monitor = 'val_loss')"
   ]
  },
  {
   "cell_type": "code",
   "execution_count": 8,
   "metadata": {},
   "outputs": [
    {
     "name": "stdout",
     "output_type": "stream",
     "text": [
      "WARNING:tensorflow:sample_weight modes were coerced from\n",
      "  ...\n",
      "    to  \n",
      "  ['...']\n",
      "WARNING:tensorflow:sample_weight modes were coerced from\n",
      "  ...\n",
      "    to  \n",
      "  ['...']\n",
      "Train for 126 steps, validate for 32 steps\n",
      "Epoch 1/100\n",
      "126/126 [==============================] - 70s 556ms/step - loss: 0.3760 - accuracy: 0.8352 - val_loss: 0.1964 - val_accuracy: 0.9065\n",
      "Epoch 2/100\n",
      "126/126 [==============================] - 69s 544ms/step - loss: 0.2496 - accuracy: 0.8964 - val_loss: 0.1673 - val_accuracy: 0.9222\n",
      "Epoch 3/100\n",
      "126/126 [==============================] - 87s 694ms/step - loss: 0.2335 - accuracy: 0.9031 - val_loss: 0.1763 - val_accuracy: 0.9262\n",
      "Epoch 4/100\n",
      "126/126 [==============================] - 67s 528ms/step - loss: 0.1925 - accuracy: 0.9196 - val_loss: 0.1556 - val_accuracy: 0.9341\n",
      "Epoch 5/100\n",
      "126/126 [==============================] - 66s 523ms/step - loss: 0.1993 - accuracy: 0.9216 - val_loss: 0.1514 - val_accuracy: 0.9380\n",
      "Epoch 6/100\n",
      "126/126 [==============================] - 66s 521ms/step - loss: 0.1865 - accuracy: 0.9243 - val_loss: 0.1681 - val_accuracy: 0.9331\n",
      "Epoch 7/100\n",
      "126/126 [==============================] - 67s 532ms/step - loss: 0.1879 - accuracy: 0.9268 - val_loss: 0.1593 - val_accuracy: 0.9331\n",
      "Epoch 8/100\n",
      "126/126 [==============================] - 71s 565ms/step - loss: 0.1609 - accuracy: 0.9440 - val_loss: 0.1955 - val_accuracy: 0.9252\n",
      "Epoch 9/100\n",
      "126/126 [==============================] - 70s 553ms/step - loss: 0.1513 - accuracy: 0.9442 - val_loss: 0.1522 - val_accuracy: 0.9350\n",
      "Epoch 10/100\n",
      "126/126 [==============================] - 67s 536ms/step - loss: 0.1617 - accuracy: 0.9363 - val_loss: 0.1750 - val_accuracy: 0.9370\n",
      "Epoch 11/100\n",
      "126/126 [==============================] - 68s 543ms/step - loss: 0.1433 - accuracy: 0.9467 - val_loss: 0.2333 - val_accuracy: 0.9085\n",
      "Epoch 12/100\n",
      "126/126 [==============================] - 68s 542ms/step - loss: 0.1447 - accuracy: 0.9395 - val_loss: 0.2189 - val_accuracy: 0.9213\n",
      "Epoch 13/100\n",
      "126/126 [==============================] - 69s 549ms/step - loss: 0.1432 - accuracy: 0.9490 - val_loss: 0.2508 - val_accuracy: 0.9016\n",
      "Epoch 14/100\n",
      "126/126 [==============================] - 68s 538ms/step - loss: 0.1333 - accuracy: 0.9532 - val_loss: 0.1766 - val_accuracy: 0.9291\n",
      "Epoch 15/100\n",
      "126/126 [==============================] - 70s 555ms/step - loss: 0.1323 - accuracy: 0.9490 - val_loss: 0.2379 - val_accuracy: 0.9065\n"
     ]
    },
    {
     "data": {
      "text/plain": [
       "<tensorflow.python.keras.callbacks.History at 0x13acc4559c8>"
      ]
     },
     "execution_count": 8,
     "metadata": {},
     "output_type": "execute_result"
    }
   ],
   "source": [
    "cnn.fit(x = training_set, validation_data = validation_generator, epochs = 100, shuffle = False, callbacks = [stop])"
   ]
  },
  {
   "cell_type": "code",
   "execution_count": 9,
   "metadata": {},
   "outputs": [],
   "source": [
    "history = pd.DataFrame(cnn.history.history)"
   ]
  },
  {
   "cell_type": "code",
   "execution_count": 10,
   "metadata": {},
   "outputs": [
    {
     "data": {
      "text/plain": [
       "<matplotlib.axes._subplots.AxesSubplot at 0x13ac33d57c8>"
      ]
     },
     "execution_count": 10,
     "metadata": {},
     "output_type": "execute_result"
    },
    {
     "data": {
      "image/png": "[encoded data removed]",
      "text/plain": [
       "<Figure size 1440x720 with 1 Axes>"
      ]
     },
     "metadata": {
      "needs_background": "light"
     },
     "output_type": "display_data"
    }
   ],
   "source": [
    "plt.rcParams[\"figure.figsize\"] = (20,10)\n",
    "history.plot()"
   ]
  },
  {
   "cell_type": "code",
   "execution_count": 12,
   "metadata": {},
   "outputs": [
    {
     "name": "stdout",
     "output_type": "stream",
     "text": [
      "WARNING:tensorflow:sample_weight modes were coerced from\n",
      "  ...\n",
      "    to  \n",
      "  ['...']\n",
      "26/26 [==============================] - 9s 353ms/step - loss: 0.2680 - accuracy: 0.8932\n",
      "Testing accuracy :  89.3203854560852\n"
     ]
    }
   ],
   "source": [
    "print(\"Testing accuracy : \",cnn.evaluate(test_set)[1]*100)"
   ]
  },
  {
   "cell_type": "code",
   "execution_count": 15,
   "metadata": {},
   "outputs": [
    {
     "name": "stdout",
     "output_type": "stream",
     "text": [
      "26/26 [==============================] - 9s 344ms/step\n"
     ]
    }
   ],
   "source": [
    "predictions_test = (cnn.predict(test_set,verbose=True) > 0.5).astype(\"int32\")"
   ]
  }
 ],
 "metadata": {
  "kernelspec": {
   "display_name": "Python 3",
   "language": "python",
   "name": "python3"
  },
  "language_info": {
   "codemirror_mode": {
    "name": "ipython",
    "version": 3
   },
   "file_extension": ".py",
   "mimetype": "text/x-python",
   "name": "python",
   "nbconvert_exporter": "python",
   "pygments_lexer": "ipython3",
   "version": "3.7.4"
  }
 },
 "nbformat": 4,
 "nbformat_minor": 2
}
